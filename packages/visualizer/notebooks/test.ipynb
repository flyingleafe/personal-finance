{
 "cells": [
  {
   "cell_type": "code",
   "execution_count": null,
   "metadata": {},
   "outputs": [],
   "source": [
    "import json\n",
    "import sys\n",
    "import pandas as pd\n",
    "import numpy as np\n",
    "import plotly.express as px\n",
    "# import pandas as pd\n",
    "from datetime import datetime\n",
    "from tronscan.client import TronscanClient\n",
    "\n",
    "sys.path.append('..')\n",
    "\n",
    "from env import settings\n",
    "\n",
    "%load_ext autoreload\n",
    "%autoreload 2"
   ]
  },
  {
   "cell_type": "code",
   "execution_count": null,
   "metadata": {},
   "outputs": [],
   "source": [
    "client = TronscanClient(api_key=settings.TRONSCAN_API_TOKEN)\n",
    "my_addr = settings.TRON_ADDRS[0]\n",
    "my_addr_2 = settings.TRON_ADDRS[1]"
   ]
  },
  {
   "cell_type": "code",
   "execution_count": null,
   "metadata": {},
   "outputs": [],
   "source": [
    "transfers = list(client.all_transfers(my_addr)) + list(client.all_transfers(my_addr_2))"
   ]
  },
  {
   "cell_type": "code",
   "execution_count": null,
   "metadata": {},
   "outputs": [],
   "source": [
    "len(transfers)"
   ]
  },
  {
   "cell_type": "code",
   "execution_count": null,
   "metadata": {},
   "outputs": [],
   "source": [
    "transfers[0]"
   ]
  },
  {
   "cell_type": "code",
   "execution_count": null,
   "metadata": {},
   "outputs": [],
   "source": [
    "usdt_transfers = [\n",
    "    ((1 if t['to_address'] in (my_addr, my_addr_2) else -1) * float(int(t['quant']) / 10**t['tokenInfo']['tokenDecimal']), datetime.fromtimestamp(int(t['block_ts']) / 1000))\n",
    "    for t in transfers if t['tokenInfo']['tokenId'] == 'TR7NHqjeKQxGTCi8q8ZY4pL8otSzgjLj6t'\n",
    "]"
   ]
  },
  {
   "cell_type": "code",
   "execution_count": null,
   "metadata": {},
   "outputs": [],
   "source": [
    "len(usdt_transfers)"
   ]
  },
  {
   "cell_type": "code",
   "execution_count": null,
   "metadata": {},
   "outputs": [],
   "source": [
    "df = pd.DataFrame(usdt_transfers, columns=[\"amount\", \"date\"])"
   ]
  },
  {
   "cell_type": "code",
   "execution_count": null,
   "metadata": {},
   "outputs": [],
   "source": [
    "df['amount'].sum()"
   ]
  },
  {
   "cell_type": "code",
   "execution_count": null,
   "metadata": {},
   "outputs": [],
   "source": [
    "fig = px.bar(df, x=\"date\", y=\"amount\", title=\"USDT transfers\")\n",
    "fig.update_layout(showlegend=False)\n",
    "fig.update_yaxes(zeroline=True, zerolinewidth=2, zerolinecolor='black')\n",
    "fig.update_traces(marker_color=df['amount'].apply(lambda x: 'green' if x > 0 else 'red'))\n",
    "fig.update_traces(width=500000000)\n",
    "fig.show()"
   ]
  },
  {
   "cell_type": "code",
   "execution_count": null,
   "metadata": {},
   "outputs": [],
   "source": [
    "def show_incomes_expenses(df, grouping_freq=\"M\"):\n",
    "    incomes = df[df['amount'] > 0]\n",
    "    expenses = df[df['amount'] < 0]\n",
    "\n",
    "    incomes_grouped = incomes.groupby(pd.Grouper(key=\"date\", freq=grouping_freq)).sum().reset_index()\n",
    "    expenses_grouped = expenses.groupby(pd.Grouper(key=\"date\", freq=grouping_freq)).sum().reset_index()\n",
    "    together = pd.concat([incomes_grouped, expenses_grouped], axis=0).sort_values(\"date\")\n",
    "\n",
    "    fig = px.bar(together, x=\"date\", y=\"amount\", title=\"USDT transfers\")\n",
    "    fig.update_layout(showlegend=False)\n",
    "    fig.update_yaxes(zeroline=True, zerolinewidth=2, zerolinecolor='black')\n",
    "    fig.update_traces(marker_color=together['amount'].apply(lambda x: 'green' if x > 0 else 'red'))\n",
    "    fig.update_traces(width=500000000)\n",
    "    fig.show()\n",
    "    \n",
    "    \n"
   ]
  },
  {
   "cell_type": "code",
   "execution_count": null,
   "metadata": {},
   "outputs": [],
   "source": [
    "show_incomes_expenses(df, \"M\")"
   ]
  },
  {
   "cell_type": "code",
   "execution_count": null,
   "metadata": {},
   "outputs": [],
   "source": [
    "import numpy as np\n",
    "import matplotlib.pyplot as plt\n",
    "\n",
    "from datetime import datetime, timedelta\n",
    "\n",
    "start = datetime(2024, 3, 6, 9, 0, 3, 451571)\n",
    "\n",
    "payments = [\n",
    "    (datetime(2024, 4, 9, 9, 0, 0, 0), 43.5),\n",
    "]\n",
    "\n",
    "daily_range = np.arange(start, start + timedelta(days=180), timedelta(days=1)).astype(datetime)\n",
    "timestamps = np.vectorize(lambda x: x.timestamp())(daily_range)\n",
    "timestamps -= timestamps.min()\n",
    "\n",
    "\n",
    "def debt_with_interest(X, r, t, seconds_per_t=60*60*24*30):\n",
    "    return X * np.exp(r * t / seconds_per_t)\n",
    "\n",
    "def linear_debt(X, r, t, seconds_per_t=60*60*24*30):\n",
    "    return X * (1 + r * t / seconds_per_t)\n",
    "\n",
    "\n",
    "fig = plt.figure(figsize=(15, 5))\n",
    "\n",
    "dr = daily_range\n",
    "ts = np.vectorize(lambda x: x.timestamp())(dr)\n",
    "ts -= ts.min()\n",
    "\n",
    "plt.plot(dr, debt_with_interest(500, linear_debt(0.08, 0.5, ts), ts),\n",
    "         label='Interest rate starts at 7% and increases by 5% each month, continuous compounding')\n",
    "plt.plot(dr, debt_with_interest(500, 0.15, ts), label='15% interest per month, continuous compounding')\n",
    "plt.plot(dr, linear_debt(500, 0.20, ts), label='20% interest per month, no compounding')\n",
    "plt.ylabel('Debt, $')\n",
    "plt.xlabel('Date')\n",
    "plt.grid()\n",
    "plt.legend()\n",
    "debt_with_interest(500, linear_debt(0.08, 0.5, ts), ts)\n",
    "from datetime import datetime, timedelta\n",
    "\n",
    "now = datetime(2024, 3, 6, 9, 0, 3, 451571)\n",
    "daily_range = np.arange(now, now + timedelta(days=365), timedelta(days=1)).astype(datetime)\n",
    "\n",
    "def debt_with_interest(X, r, t, seconds_per_t=60*60*24*30):\n",
    "    return X * np.exp(r * t / seconds_per_t)\n",
    "\n",
    "def linear_debt(X, r, t, seconds_per_t=60*60*24*30):\n",
    "    return X * (1 + r * t / seconds_per_t)\n",
    "\n",
    "timestamps = np.vectorize(lambda x: x.timestamp())(daily_range)\n",
    "timestamps -= timestamps.min()\n",
    "\n",
    "\n",
    "def current_debt_of_leonid():\n",
    "    start = datetime(2024, 3, 6, 9, 0, 3, 451571)\n",
    "    cur_debt = 500\n",
    "    cur_interest_rate = 0.08\n",
    "\n",
    "    for t, payment in payments:\n",
    "        dt = (t - start).total_seconds()\n",
    "        cur_interest_rate = linear_debt(cur_interest_rate, 0.5, dt)\n",
    "        cur_debt = debt_with_interest(cur_debt, cur_interest_rate, dt)\n",
    "        cur_debt -= payment\n",
    "        start = t\n",
    "\n",
    "    t = (datetime.now() - start).total_seconds()\n",
    "    return debt_with_interest(cur_debt, linear_debt(cur_interest_rate, 0.5, t), t)\n",
    "\n",
    "\n",
    "current_debt_of_leonid()"
   ]
  },
  {
   "cell_type": "code",
   "execution_count": null,
   "metadata": {},
   "outputs": [],
   "source": [
    "import numpy as np\n",
    "import matplotlib.pyplot as plt"
   ]
  },
  {
   "cell_type": "code",
   "execution_count": null,
   "metadata": {},
   "outputs": [],
   "source": [
    "def pb_posterior(pb_prior, pt):\n",
    "    return pb_prior * pt / (pb_prior * pt + (1 - pb_prior) * (1 - pt))\n"
   ]
  },
  {
   "cell_type": "code",
   "execution_count": null,
   "metadata": {},
   "outputs": [],
   "source": [
    "fig, ax = plt.subplots(subplot_kw={\"projection\": \"3d\"})\n",
    "\n",
    "# Make data.\n",
    "pb_prior = np.linspace(0, 1, 100)\n",
    "pt = np.linspace(0, 1, 100)\n",
    "pb_prior, pt = np.meshgrid(pb_prior, pt)\n",
    "pb_post = pb_posterior(pb_prior, pt)\n",
    "\n",
    "# Plot the surface.\n",
    "surf = ax.plot_surface(pb_prior, pt, pb_post, cmap='coolwarm')\n",
    "\n",
    "# Add a color bar which maps values to colors.\n",
    "fig.colorbar(surf, shrink=0.5, aspect=5)\n",
    "\n",
    "plt.show()"
   ]
  },
  {
   "cell_type": "code",
   "execution_count": null,
   "metadata": {},
   "outputs": [],
   "source": [
    "plt.imshow(pb_post, cmap='coolwarm', interpolation='nearest', origin='lower')\n",
    "plt.xlabel('Prior belief')\n",
    "plt.ylabel('Probability of Alice lying')\n",
    "plt.colorbar()\n",
    "plt.show()"
   ]
  },
  {
   "cell_type": "code",
   "execution_count": null,
   "metadata": {},
   "outputs": [],
   "source": [
    "plt.imshow(pb_post >= pb_prior, cmap='coolwarm', interpolation='nearest', origin='lower')\n",
    "plt.xlabel('Prior belief')\n",
    "plt.ylabel('Probability of Alice lying')\n",
    "plt.colorbar()\n",
    "plt.show()"
   ]
  },
  {
   "cell_type": "code",
   "execution_count": null,
   "metadata": {},
   "outputs": [],
   "source": []
  }
 ],
 "metadata": {
  "kernelspec": {
   "display_name": ".venv",
   "language": "python",
   "name": "python3"
  },
  "language_info": {
   "codemirror_mode": {
    "name": "ipython",
    "version": 3
   },
   "file_extension": ".py",
   "mimetype": "text/x-python",
   "name": "python",
   "nbconvert_exporter": "python",
   "pygments_lexer": "ipython3",
   "version": "3.11.7"
  }
 },
 "nbformat": 4,
 "nbformat_minor": 2
}
