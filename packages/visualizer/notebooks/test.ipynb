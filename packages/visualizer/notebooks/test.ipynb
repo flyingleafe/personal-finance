{
 "cells": [
  {
   "cell_type": "code",
   "execution_count": null,
   "metadata": {},
   "outputs": [],
   "source": [
    "import json\n",
    "import sys\n",
    "import pandas as pd\n",
    "import numpy as np\n",
    "import plotly.express as px\n",
    "# import pandas as pd\n",
    "from datetime import datetime\n",
    "from tronscan.client import TronscanClient\n",
    "\n",
    "sys.path.append('..')\n",
    "\n",
    "from env import settings\n",
    "\n",
    "%load_ext autoreload\n",
    "%autoreload 2"
   ]
  },
  {
   "cell_type": "code",
   "execution_count": null,
   "metadata": {},
   "outputs": [],
   "source": [
    "client = TronscanClient(api_key=settings.TRONSCAN_API_TOKEN)\n",
    "my_addr = settings.TRON_ADDRS[0]\n",
    "my_addr_2 = settings.TRON_ADDRS[1]"
   ]
  },
  {
   "cell_type": "code",
   "execution_count": null,
   "metadata": {},
   "outputs": [],
   "source": [
    "transfers = list(client.all_transfers(my_addr)) + list(client.all_transfers(my_addr_2))"
   ]
  },
  {
   "cell_type": "code",
   "execution_count": null,
   "metadata": {},
   "outputs": [],
   "source": [
    "len(transfers)"
   ]
  },
  {
   "cell_type": "code",
   "execution_count": null,
   "metadata": {},
   "outputs": [],
   "source": [
    "transfers[0]"
   ]
  },
  {
   "cell_type": "code",
   "execution_count": null,
   "metadata": {},
   "outputs": [],
   "source": [
    "usdt_transfers = [\n",
    "    ((1 if t['to_address'] == my_addr else -1) * float(int(t['quant']) / 10**t['tokenInfo']['tokenDecimal']), datetime.fromtimestamp(int(t['block_ts']) / 1000))\n",
    "    for t in transfers if t['tokenInfo']['tokenId'] == 'TR7NHqjeKQxGTCi8q8ZY4pL8otSzgjLj6t'\n",
    "]"
   ]
  },
  {
   "cell_type": "code",
   "execution_count": null,
   "metadata": {},
   "outputs": [],
   "source": [
    "len(usdt_transfers)"
   ]
  },
  {
   "cell_type": "code",
   "execution_count": null,
   "metadata": {},
   "outputs": [],
   "source": [
    "df = pd.DataFrame(usdt_transfers, columns=[\"amount\", \"date\"])"
   ]
  },
  {
   "cell_type": "code",
   "execution_count": null,
   "metadata": {},
   "outputs": [],
   "source": [
    "df['amount'].sum()"
   ]
  },
  {
   "cell_type": "code",
   "execution_count": null,
   "metadata": {},
   "outputs": [],
   "source": [
    "fig = px.bar(df, x=\"date\", y=\"amount\", title=\"USDT transfers\")\n",
    "fig.update_layout(showlegend=False)\n",
    "fig.update_yaxes(zeroline=True, zerolinewidth=2, zerolinecolor='black')\n",
    "fig.update_traces(marker_color=df['amount'].apply(lambda x: 'green' if x > 0 else 'red'))\n",
    "fig.update_traces(width=500000000)\n",
    "fig.show()"
   ]
  },
  {
   "cell_type": "code",
   "execution_count": null,
   "metadata": {},
   "outputs": [],
   "source": [
    "def show_incomes_expenses(df, grouping_freq=\"M\"):\n",
    "    incomes = df[df['amount'] > 0]\n",
    "    expenses = df[df['amount'] < 0]\n",
    "\n",
    "    incomes_grouped = incomes.groupby(pd.Grouper(key=\"date\", freq=grouping_freq)).sum().reset_index()\n",
    "    expenses_grouped = expenses.groupby(pd.Grouper(key=\"date\", freq=grouping_freq)).sum().reset_index()\n",
    "    together = pd.concat([incomes_grouped, expenses_grouped], axis=0).sort_values(\"date\")\n",
    "\n",
    "    fig = px.bar(together, x=\"date\", y=\"amount\", title=\"USDT transfers\")\n",
    "    fig.update_layout(showlegend=False)\n",
    "    fig.update_yaxes(zeroline=True, zerolinewidth=2, zerolinecolor='black')\n",
    "    fig.update_traces(marker_color=together['amount'].apply(lambda x: 'green' if x > 0 else 'red'))\n",
    "    fig.update_traces(width=500000000)\n",
    "    fig.show()\n",
    "    \n",
    "    \n"
   ]
  },
  {
   "cell_type": "code",
   "execution_count": null,
   "metadata": {},
   "outputs": [],
   "source": [
    "show_incomes_expenses(df, \"M\")"
   ]
  },
  {
   "cell_type": "code",
   "execution_count": null,
   "metadata": {},
   "outputs": [],
   "source": []
  }
 ],
 "metadata": {
  "kernelspec": {
   "display_name": ".venv",
   "language": "python",
   "name": "python3"
  },
  "language_info": {
   "codemirror_mode": {
    "name": "ipython",
    "version": 3
   },
   "file_extension": ".py",
   "mimetype": "text/x-python",
   "name": "python",
   "nbconvert_exporter": "python",
   "pygments_lexer": "ipython3",
   "version": "3.11.7"
  }
 },
 "nbformat": 4,
 "nbformat_minor": 2
}
